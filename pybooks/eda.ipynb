{
 "cells": [
  {
   "cell_type": "code",
   "execution_count": null,
   "metadata": {},
   "outputs": [],
   "source": [
    "import sys\n",
    "sys.path.append('..')\n",
    "\n",
    "from transformers import (\n",
    "    AutoTokenizer,\n",
    ")\n",
    "from tqdm import tqdm\n",
    "\n",
    "from utils import get_dataset"
   ]
  },
  {
   "cell_type": "code",
   "execution_count": null,
   "metadata": {},
   "outputs": [],
   "source": [
    "model_id = 'microsoft/deberta-v3-large'\n",
    "tokenizer = AutoTokenizer.from_pretrained(model_id)\n",
    "tokenize = lambda input: tokenizer(input[\"text\"], truncation=True, padding=False, max_length=512)\n",
    "dataset = get_dataset()\n",
    "dataset = dataset.map(tokenize, batched=True)\n",
    "dataset"
   ]
  },
  {
   "cell_type": "code",
   "execution_count": null,
   "metadata": {},
   "outputs": [],
   "source": [
    "unique = \"unique\"\n",
    "uknown = 'uknown'\n",
    "info = {f\"{k}_total\": 0 for k in dataset}\n",
    "info[unique] = set()\n",
    "info[uknown] = 0\n",
    "\n",
    "for split in dataset:\n",
    "    totals = f\"{split}_total\"\n",
    "    for tokens in tqdm(dataset[split]['input_ids'], desc=split):\n",
    "        info[totals] += len(tokens)\n",
    "        info[unique] |= set(tokens)\n",
    "        info[uknown] += tokens.count(tokenizer.unk_token_id)\n",
    "\n",
    "info[unique] = len(info[unique])\n",
    "info[uknown] = info[uknown] * 100 / (info['train_total'] + info['test_total'] + info['validation_total'])\n",
    "info"
   ]
  }
 ],
 "metadata": {
  "kernelspec": {
   "display_name": "tmp",
   "language": "python",
   "name": "python3"
  },
  "language_info": {
   "codemirror_mode": {
    "name": "ipython",
    "version": 3
   },
   "file_extension": ".py",
   "mimetype": "text/x-python",
   "name": "python",
   "nbconvert_exporter": "python",
   "pygments_lexer": "ipython3",
   "version": "3.10.13"
  }
 },
 "nbformat": 4,
 "nbformat_minor": 2
}
